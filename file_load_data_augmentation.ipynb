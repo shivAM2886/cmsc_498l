{
  "nbformat": 4,
  "nbformat_minor": 0,
  "metadata": {
    "colab": {
      "name": "create_dataset_project_cmsc498l_f1.ipynb",
      "provenance": [],
      "collapsed_sections": []
    },
    "kernelspec": {
      "name": "python3",
      "display_name": "Python 3"
    }
  },
  "cells": [
    {
      "cell_type": "code",
      "metadata": {
        "id": "NSoFC5npJr4g",
        "colab_type": "code",
        "colab": {}
      },
      "source": [
        "import numpy as np\n",
        "import matplotlib.pyplot as plt\n",
        "import os\n",
        "import cv2\n",
        "import random\n",
        "import pickle\n",
        "import torch\n",
        "import time\n",
        "import torchvision\n",
        "from PIL import Image"
      ],
      "execution_count": 0,
      "outputs": []
    },
    {
      "cell_type": "code",
      "metadata": {
        "id": "bYSCv1Hppcwx",
        "colab_type": "code",
        "outputId": "d54cbefb-cc37-4e0f-9d77-9c62335df1d3",
        "colab": {
          "base_uri": "https://localhost:8080/",
          "height": 50
        }
      },
      "source": [
        "noncovid_filenames = os.listdir('drive/My Drive/dataset_498l/NonCOVID')\n",
        "test_noncovid_files = random.sample(noncovid_filenames, 78)\n",
        "train_noncovid_files = []\n",
        "\n",
        "for files in noncovid_filenames:\n",
        "  if files not in test_noncovid_files:\n",
        "    train_noncovid_files.append(files)\n",
        "\n",
        "print(len(test_noncovid_files), len(train_noncovid_files))\n",
        "\n",
        "\n",
        "covid_filenames = os.listdir('drive/My Drive/dataset_498l/COVID')\n",
        "test_covid_files = random.sample(covid_filenames, 72)\n",
        "train_covid_files = []\n",
        "\n",
        "for files in covid_filenames:\n",
        "  if files not in test_covid_files:\n",
        "    train_covid_files.append(files)\n",
        "\n",
        "print(len(test_covid_files), len(train_covid_files))"
      ],
      "execution_count": 0,
      "outputs": [
        {
          "output_type": "stream",
          "text": [
            "78 319\n",
            "72 277\n"
          ],
          "name": "stdout"
        }
      ]
    },
    {
      "cell_type": "code",
      "metadata": {
        "id": "1ic_BK_ClSZx",
        "colab_type": "code",
        "colab": {}
      },
      "source": [
        "# create test datasets\n",
        "\n",
        "def create_testdataset(noncovid_filenames, covid_filenames):\n",
        "  \n",
        "  datadir = 'drive/My Drive/dataset_498l'\n",
        "  categories = [\"NonCOVID\", \"COVID\"]\n",
        "\n",
        "  transform_resize = torchvision.transforms.Resize((152, 152))\n",
        "  transform_greyscale = torchvision.transforms.Grayscale(num_output_channels=1)\n",
        "\n",
        "  test_dataset = []\n",
        "\n",
        "  for img in noncovid_filenames:\n",
        "    \n",
        "    class_num = 0\n",
        "    path = datadir+\"/\"+categories[0]\n",
        "    image = Image.open(os.path.join(path, img))\n",
        "    image = transform_resize(image)\n",
        "    image = transform_greyscale(image)\n",
        "\n",
        "    img_array = np.array(image)\n",
        "    test_dataset.append([img_array, class_num])\n",
        "  \n",
        "  for img in covid_filenames:\n",
        "    class_num = 1\n",
        "    path = datadir+\"/\"+categories[1]\n",
        "    image = Image.open(os.path.join(path, img))\n",
        "    image = transform_resize(image)\n",
        "    image = transform_greyscale(image)\n",
        "\n",
        "    img_array = np.array(image)\n",
        "    test_dataset.append([img_array, class_num])\n",
        "  \n",
        "  random.Random(28).shuffle(test_dataset)\n",
        "\n",
        "  return test_dataset"
      ],
      "execution_count": 0,
      "outputs": []
    },
    {
      "cell_type": "code",
      "metadata": {
        "id": "6AM9tlpV4W6V",
        "colab_type": "code",
        "colab": {}
      },
      "source": [
        "# create train datasets\n",
        "\n",
        "def create_aug_training_dataset(noncovid_filenames, covid_filenames):\n",
        "\n",
        "  datadir = 'drive/My Drive/dataset_498l'\n",
        "  categories = [\"NonCOVID\", \"COVID\"]\n",
        "\n",
        "  transform_color_jitter = torchvision.transforms.ColorJitter()\n",
        "  transform_hflip = torchvision.transforms.RandomHorizontalFlip()\n",
        "  transform_vflip = torchvision.transforms.RandomVerticalFlip()\n",
        "  transform_affine = torchvision.transforms.RandomAffine(degrees = 10)\n",
        "\n",
        "\n",
        "  transform_resize = torchvision.transforms.Resize((152, 152))\n",
        "  transform_greyscale = torchvision.transforms.Grayscale(num_output_channels=1)\n",
        "\n",
        "  train_dataset = []\n",
        "\n",
        "  for img in noncovid_filenames:\n",
        "    class_num = 0\n",
        "    path = datadir+\"/\"+categories[0]\n",
        "    image = Image.open(os.path.join(path, img))\n",
        "    image1 = image\n",
        "    image2 = transform_color_jitter(image)\n",
        "    image3 = transform_hflip(image)\n",
        "    image4 = transform_vflip(image)\n",
        "    image5 = transform_affine(image)\n",
        "\n",
        "    image_array = [image1, image2, image3, image4, image5]\n",
        "\n",
        "    for images in image_array:\n",
        "      images = transform_resize(images)\n",
        "      images = transform_greyscale(images)\n",
        "\n",
        "      img_array = np.array(images)\n",
        "      train_dataset.append([img_array, class_num])\n",
        "\n",
        "  \n",
        "  for img in covid_filenames:\n",
        "    class_num = 1\n",
        "    path = datadir+\"/\"+categories[1]\n",
        "    image = Image.open(os.path.join(path, img))\n",
        "    image1 = image\n",
        "    image2 = transform_color_jitter(image)\n",
        "    image3 = transform_hflip(image)\n",
        "    image4 = transform_vflip(image)\n",
        "    image5 = transform_affine(image)\n",
        "\n",
        "    image_array = [image1, image2, image3, image4, image5]\n",
        "\n",
        "    for images in image_array:\n",
        "      images = transform_resize(images)\n",
        "      images = transform_greyscale(images)\n",
        "\n",
        "      img_array = np.array(images)\n",
        "      train_dataset.append([img_array, class_num])\n",
        "      \n",
        "  random.Random(28).shuffle(train_dataset)\n",
        "  return train_dataset"
      ],
      "execution_count": 0,
      "outputs": []
    },
    {
      "cell_type": "code",
      "metadata": {
        "id": "j-arIpq9hjqH",
        "colab_type": "code",
        "colab": {}
      },
      "source": [
        "test_dataset = create_testdataset(test_noncovid_files, test_covid_files)\n",
        "train_dataset = create_aug_training_dataset(train_noncovid_files, train_covid_files)"
      ],
      "execution_count": 0,
      "outputs": []
    },
    {
      "cell_type": "code",
      "metadata": {
        "id": "hYQDUCIfrtx-",
        "colab_type": "code",
        "outputId": "5c007fb0-309e-4892-fd5f-bc2d499f5b62",
        "colab": {
          "base_uri": "https://localhost:8080/",
          "height": 50
        }
      },
      "source": [
        "from collections import Counter\n",
        "\n",
        "train_images = []\n",
        "train_labels = []\n",
        "\n",
        "for images, labels in train_dataset:\n",
        "  train_images.append(images)\n",
        "  train_labels.append(labels)\n",
        "\n",
        "print(\"training >> \", Counter(train_labels))\n",
        "\n",
        "pickle_out = open(\"drive/My Drive/project_cmsc498l/train_images_152x152.pickle\", \"wb\")\n",
        "pickle.dump(train_images, pickle_out)\n",
        "pickle_out.close()\n",
        "\n",
        "pickle_out = open(\"drive/My Drive/project_cmsc498l/train_labels_152x152.pickle\", \"wb\")\n",
        "pickle.dump(train_labels, pickle_out)\n",
        "pickle_out.close()\n",
        "\n",
        "\n",
        "\n",
        "\n",
        "test_images = []\n",
        "test_labels = []\n",
        "\n",
        "for images, labels in test_dataset:\n",
        "  test_images.append(images)\n",
        "  test_labels.append(labels)\n",
        "\n",
        "print(\"testing >> \", Counter(test_labels))\n",
        "\n",
        "pickle_out = open(\"drive/My Drive/project_cmsc498l/test_images_152x152.pickle\", \"wb\")\n",
        "pickle.dump(test_images, pickle_out)\n",
        "pickle_out.close()\n",
        "\n",
        "pickle_out = open(\"drive/My Drive/project_cmsc498l/test_labels_152x152.pickle\", \"wb\")\n",
        "pickle.dump(test_labels, pickle_out)\n",
        "pickle_out.close()"
      ],
      "execution_count": 0,
      "outputs": [
        {
          "output_type": "stream",
          "text": [
            "training >>  Counter({0: 1595, 1: 1385})\n",
            "testing >>  Counter({0: 78, 1: 72})\n"
          ],
          "name": "stdout"
        }
      ]
    }
  ]
}