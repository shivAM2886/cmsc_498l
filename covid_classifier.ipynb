{
  "nbformat": 4,
  "nbformat_minor": 0,
  "metadata": {
    "colab": {
      "name": "covid_classifier.ipynb",
      "provenance": [],
      "collapsed_sections": []
    },
    "kernelspec": {
      "name": "python3",
      "display_name": "Python 3"
    },
    "accelerator": "GPU"
  },
  "cells": [
    {
      "cell_type": "code",
      "metadata": {
        "id": "AAjZktGGhMAK",
        "colab_type": "code",
        "colab": {}
      },
      "source": [
        "import torch\n",
        "import torch.nn as nn\n",
        "import torch.nn.functional as F\n",
        "import numpy as np\n",
        "import matplotlib.pyplot as plt\n",
        "import time\n",
        "import torchvision\n",
        "\n",
        "\n",
        "torch.manual_seed(0)\n",
        "torch.backends.cudnn.deterministic = True\n",
        "torch.backends.cudnn.benchmark = False\n",
        "np.random.seed(0)"
      ],
      "execution_count": 0,
      "outputs": []
    },
    {
      "cell_type": "code",
      "metadata": {
        "id": "c_w9-xWThZLK",
        "colab_type": "code",
        "colab": {}
      },
      "source": [
        "class Net(nn.Module): \n",
        "\n",
        "  torch.manual_seed(100)\n",
        "  def __init__(self, image_dim, image_channel):\n",
        "    super(Net, self).__init__()\n",
        "    self.image_dim = image_dim    \n",
        "    self.image_channel = image_channel\n",
        "    self.conv1 = nn.Conv2d(in_channels=1, out_channels=3, kernel_size=5)\n",
        "    self.pool1 = nn.MaxPool2d(kernel_size=2, stride=2)\n",
        "    self.conv2 = nn.Conv2d(in_channels=3, out_channels=3, kernel_size=5)\n",
        "    self.pool2 = nn.MaxPool2d(kernel_size=2, stride = 2, padding = 0)\n",
        "    self.conv3 = nn.Conv2d(in_channels=3, out_channels=2, kernel_size=5)\n",
        "    self.pool3 = nn.MaxPool2d(kernel_size=2, stride = 2)\n",
        "    \n",
        "    self.fc1 = nn.Linear(in_features=15*15*2, out_features=120)\n",
        "    self.drop_out = nn.Dropout(0.5)\n",
        "    self.fc2 = nn.Linear(in_features=120, out_features=40)\n",
        "    self.fc3 = nn.Linear(in_features= 40, out_features=2)\n",
        "        \n",
        "\n",
        "  def forward(self, x):\n",
        "      x = self.conv1(x)\n",
        "      x = torch.relu(x)\n",
        "      x = self.pool1(x)\n",
        "\n",
        "\n",
        "      x = self.conv2(x)\n",
        "      x = torch.relu(x)\n",
        "      x = self.pool2(x)\n",
        "      \n",
        "\n",
        "      x = self.conv3(x)\n",
        "      x = torch.relu(x)\n",
        "      x = self.pool3(x)\n",
        "      \n",
        "\n",
        "      x = x.view(-1, 15*15*2)\n",
        "\n",
        "\n",
        "      x = self.fc1(x)   \n",
        "      x = torch.relu(x) # ReLu(fc1)\n",
        "\n",
        "\n",
        "      x = self.drop_out(x)\n",
        "      x = self.fc2(x)\n",
        "      x = torch.relu(x)\n",
        "\n",
        "      x = self.fc3(x)\n",
        "      x = torch.sigmoid(x) # sigmoid(fc2)\n",
        "\n",
        "      return x"
      ],
      "execution_count": 0,
      "outputs": []
    },
    {
      "cell_type": "code",
      "metadata": {
        "id": "fSJNJ-CFhfw_",
        "colab_type": "code",
        "outputId": "3f9e1d33-2721-46b9-e096-5732a7e382e3",
        "colab": {
          "base_uri": "https://localhost:8080/",
          "height": 310
        }
      },
      "source": [
        "def predict(pred_proba, actual_labels):\n",
        "  actual_labels = actual_labels.cpu().numpy()\n",
        "  pred_proba = pred_proba.cpu().numpy()\n",
        "\n",
        "  length = pred_proba.shape[0]\n",
        "  prediction = np.zeros(length)\n",
        "  \n",
        "  for i in range(length):\n",
        "    if pred_proba[i][1] > 0.5:\n",
        "      prediction[i] = 1\n",
        "\n",
        "  return np.sum((prediction == actual_labels)/length)\n",
        "\n",
        "\n",
        "def run_module(model, optim, loss_function, epochs, learning_rate, train_x, train_y, test_x, test_y, print_value):\n",
        "\n",
        "  t0 = time.time()\n",
        "\n",
        "  train_epoch_loss = []\n",
        "  test_epoch_loss = []\n",
        "  test_accuracy = []\n",
        "  train_accuracy = []\n",
        "\n",
        "  for epoch in range(epochs): \n",
        "\n",
        "    # training phase\n",
        "    model.train()\n",
        "    \n",
        "    train_loss = []\n",
        "\n",
        "    model_output = model.forward(train_x.float())\n",
        "    loss = loss_function(model_output, train_y) \n",
        "    train_loss.append(loss.item())\n",
        "    train_epoch_loss.append(np.mean(train_loss))\n",
        "    \n",
        "    optim.zero_grad()  \n",
        "    loss.backward()  \n",
        "    optim.step()  \n",
        "  \n",
        "    # validation phase\n",
        "    model.eval()  \n",
        "    val_loss = []\n",
        "\n",
        "    with torch.no_grad():   \n",
        "      model_output = model(test_x.float())\n",
        "      loss = loss_function(model_output, test_y)\n",
        "      val_loss.append(loss.item())\n",
        "      test_epoch_loss.append(np.mean(val_loss))\n",
        "      test_accuracy.append(predict(model_output, test_y))\n",
        "      train_accuracy.append(predict(model(train_x.float()), train_y))\n",
        "\n",
        "\n",
        "    if print_value == True and epoch%50 == 0:\n",
        "      print(\"Epoch : {}, Train loss: {} , Val loss: {}\".format(epoch, np.mean(train_loss), np.mean(val_loss)))\n",
        "      print(\"accuarcy\", predict(model_output, test_y))\n",
        "      \n",
        "      \n",
        "      \n",
        "\n",
        "  print(\"Total time taken: {} seconds\".format(time.time()- t0))\n",
        "\n",
        "  return model, train_epoch_loss, test_epoch_loss, train_accuracy, test_accuracy, model_output, test_y\n",
        "\n",
        "\n",
        "# FUNCTION TO LOAD THE IMAGE TEST AND TRAIN DATA\n",
        "\n",
        "\n",
        "import pickle\n",
        "from collections import Counter\n",
        "\n",
        "\n",
        "def load_data(file_train_images, file_train_labels, file_test_images, file_test_labels):\n",
        "  pickle_in = open(\"drive/My Drive/project_cmsc498l/\"+file_train_images, \"rb\")\n",
        "  train_set_x_orig = pickle.load(pickle_in)\n",
        "  pickle_in.close()\n",
        "\n",
        "  pickle_in = open(\"drive/My Drive/project_cmsc498l/\"+file_train_labels, \"rb\")\n",
        "  train_set_y_orig = pickle.load(pickle_in)\n",
        "  pickle_in.close()\n",
        "\n",
        "  pickle_in = open(\"drive/My Drive/project_cmsc498l/\"+file_test_images, \"rb\")\n",
        "  test_set_x_orig = pickle.load(pickle_in)\n",
        "  pickle_in.close()\n",
        "\n",
        "  pickle_in = open(\"drive/My Drive/project_cmsc498l/\"+file_test_labels, \"rb\")\n",
        "  test_set_y_orig = pickle.load(pickle_in)\n",
        "  pickle_in.close()\n",
        "\n",
        "\n",
        "\n",
        "  classes = np.array([0,1])\n",
        "\n",
        "  train_set_x_orig = np.asarray(train_set_x_orig)\n",
        "  test_set_x_orig = np.asarray(test_set_x_orig)\n",
        "  train_set_y_orig = np.asarray(train_set_y_orig)\n",
        "  test_set_y_orig = np.asarray(test_set_y_orig)\n",
        "\n",
        "  print(\"train dataset class distribution \", Counter(train_set_y_orig))\n",
        "  print(\"test dataset class distribution \", Counter(test_set_y_orig))\n",
        "  print(\"----\")\n",
        "\n",
        "  train_set_y_orig = train_set_y_orig.reshape(train_set_y_orig.shape[0], 1)\n",
        "  test_set_y_orig = test_set_y_orig.reshape(test_set_y_orig.shape[0], 1)\n",
        "\n",
        "\n",
        "  return train_set_x_orig, train_set_y_orig, test_set_x_orig, test_set_y_orig, classes\n",
        "\n",
        "\n",
        "\n",
        "file_train_images = \"train_images_152x152.pickle\"\n",
        "file_train_labels = \"train_labels_152x152.pickle\"\n",
        "\n",
        "file_test_images = \"test_images_152x152.pickle\"\n",
        "file_test_labels = \"test_labels_152x152.pickle\"\n",
        "\n",
        "train_x_orig, train_y, test_x_orig, test_y, classes = load_data(file_train_images, file_train_labels, file_test_images, file_test_labels)\n",
        "\n",
        "\n",
        "\n",
        "print(\"train data-set shape\", train_x_orig.shape)\n",
        "print(\"test data-set shape\", test_x_orig.shape)\n",
        "print(\"----\")\n",
        "print(\"train label shape\", train_y.shape)\n",
        "print(\"test label shape\", test_y.shape)\n",
        "print(\"----\")\n",
        "\n",
        "# standardizing data to have values between 0 and 1\n",
        "train_x = train_x_orig\n",
        "test_x = test_x_orig\n",
        "\n",
        "# changing the shape of train_y and test_y\n",
        "train_y = train_y.reshape(train_y.shape[0])\n",
        "test_y = test_y.reshape(test_y.shape[0])\n",
        "\n",
        "true_y = test_y\n",
        "# converting numpy arrays to torch tensors\n",
        "train_x = torch.from_numpy(train_x)\n",
        "test_x = torch.from_numpy(test_x)\n",
        "train_y = torch.from_numpy(train_y)\n",
        "test_y = torch.from_numpy(test_y)\n",
        "\n",
        "print(\"shape train_x\", train_x.shape)\n",
        "print(\"shape test_x\", test_x.shape)\n",
        "print(\"shape train_y\", train_y.shape)\n",
        "print(\"shape test_y\", test_y.shape)\n",
        "\n",
        "print(\"----\")\n",
        "\n",
        "train_x = train_x.view(2980,152,152,1)\n",
        "test_x = test_x.view(150,152,152,1)\n",
        "\n",
        "train_x = train_x.view(- 1, 1, 152, 152)\n",
        "test_x = test_x.view(-1, 1, 152, 152)\n",
        "\n",
        "print(\"shape train_x\", train_x.shape)\n",
        "print(\"shape test_x\", test_x.shape)\n",
        "print(\"shape train_y\", train_y.shape)\n",
        "print(\"shape test_y\", test_y.shape)"
      ],
      "execution_count": 3,
      "outputs": [
        {
          "output_type": "stream",
          "text": [
            "train dataset class distribution  Counter({0: 1595, 1: 1385})\n",
            "test dataset class distribution  Counter({0: 78, 1: 72})\n",
            "----\n",
            "train data-set shape (2980, 152, 152)\n",
            "test data-set shape (150, 152, 152)\n",
            "----\n",
            "train label shape (2980, 1)\n",
            "test label shape (150, 1)\n",
            "----\n",
            "shape train_x torch.Size([2980, 152, 152])\n",
            "shape test_x torch.Size([150, 152, 152])\n",
            "shape train_y torch.Size([2980])\n",
            "shape test_y torch.Size([150])\n",
            "----\n",
            "shape train_x torch.Size([2980, 1, 152, 152])\n",
            "shape test_x torch.Size([150, 1, 152, 152])\n",
            "shape train_y torch.Size([2980])\n",
            "shape test_y torch.Size([150])\n"
          ],
          "name": "stdout"
        }
      ]
    },
    {
      "cell_type": "code",
      "metadata": {
        "id": "t2th2kephrUZ",
        "colab_type": "code",
        "outputId": "a4101920-46aa-428a-b2ff-0a3d9d77c1d8",
        "colab": {
          "base_uri": "https://localhost:8080/",
          "height": 1000
        }
      },
      "source": [
        "torch.cuda.manual_seed(0)\n",
        "torch.manual_seed(0)\n",
        "torch.backends.cudnn.deterministic = True\n",
        "torch.backends.cudnn.benchmark = False\n",
        "np.random.seed(0)\n",
        "\n",
        "epochs = 901\n",
        "learning_rate = 0.005\n",
        "model_conv1 = Net(image_dim = 152, image_channel=1)  \n",
        "model_conv1 = model_conv1.cuda()\n",
        "\n",
        "train_x, train_y = train_x.cuda(), train_y.cuda()\n",
        "test_x , test_y = test_x.cuda(), test_y.cuda()\n",
        "\n",
        "optim = torch.optim.SGD(model_conv1.parameters(), lr = 0.005, momentum=0.9, weight_decay=0.1)  \n",
        "loss_function = nn.CrossEntropyLoss()\n",
        "model_conv1, train_epoch_loss, test_epoch_loss, train_accuracy, test_accuracy, pred_y, test_y = run_module(model_conv1, optim, loss_function, epochs, learning_rate, train_x, train_y, test_x, test_y, True)\n",
        "\n",
        "\n",
        "epoch_array = [i for i in range(901)]\n",
        "plt.figure(figsize = (12,6))\n",
        "plt.plot(epoch_array, train_epoch_loss, label= \"train loss\")\n",
        "plt.plot(epoch_array, test_epoch_loss, label = \"test loss\")\n",
        "plt.legend()"
      ],
      "execution_count": 4,
      "outputs": [
        {
          "output_type": "stream",
          "text": [
            "Epoch : 0, Train loss: 0.6922970414161682 , Val loss: 0.6926789283752441\n",
            "accuarcy 0.52\n",
            "Epoch : 50, Train loss: 0.6882433295249939 , Val loss: 0.6897545456886292\n",
            "accuarcy 0.54\n",
            "Epoch : 100, Train loss: 0.6762830018997192 , Val loss: 0.6809007525444031\n",
            "accuarcy 0.5999999999999999\n",
            "Epoch : 150, Train loss: 0.6169160008430481 , Val loss: 0.6252570748329163\n",
            "accuarcy 0.6933333333333332\n",
            "Epoch : 200, Train loss: 0.5649707317352295 , Val loss: 0.604921281337738\n",
            "accuarcy 0.6933333333333334\n",
            "Epoch : 250, Train loss: 0.5731405019760132 , Val loss: 0.5891277194023132\n",
            "accuarcy 0.6933333333333334\n",
            "Epoch : 300, Train loss: 0.5115103721618652 , Val loss: 0.5728744268417358\n",
            "accuarcy 0.7333333333333333\n",
            "Epoch : 350, Train loss: 0.464508593082428 , Val loss: 0.5733963847160339\n",
            "accuarcy 0.7333333333333333\n",
            "Epoch : 400, Train loss: 0.4289301037788391 , Val loss: 0.5548813343048096\n",
            "accuarcy 0.7466666666666666\n",
            "Epoch : 450, Train loss: 0.4185344874858856 , Val loss: 0.5756723284721375\n",
            "accuarcy 0.7066666666666666\n",
            "Epoch : 500, Train loss: 0.3985779583454132 , Val loss: 0.556692898273468\n",
            "accuarcy 0.7533333333333334\n",
            "Epoch : 550, Train loss: 0.3920920491218567 , Val loss: 0.5693749785423279\n",
            "accuarcy 0.72\n",
            "Epoch : 600, Train loss: 0.39666104316711426 , Val loss: 0.5533096194267273\n",
            "accuarcy 0.7333333333333333\n",
            "Epoch : 650, Train loss: 0.42405277490615845 , Val loss: 0.5519886016845703\n",
            "accuarcy 0.74\n",
            "Epoch : 700, Train loss: 0.36559274792671204 , Val loss: 0.5594062209129333\n",
            "accuarcy 0.74\n",
            "Epoch : 750, Train loss: 0.40087243914604187 , Val loss: 0.5516682267189026\n",
            "accuarcy 0.7533333333333332\n",
            "Epoch : 800, Train loss: 0.3667909801006317 , Val loss: 0.5555621981620789\n",
            "accuarcy 0.7333333333333333\n",
            "Epoch : 850, Train loss: 0.3661060631275177 , Val loss: 0.5437002778053284\n",
            "accuarcy 0.7599999999999999\n",
            "Epoch : 900, Train loss: 0.36343392729759216 , Val loss: 0.5405561327934265\n",
            "accuarcy 0.78\n",
            "Total time taken: 589.2542998790741 seconds\n"
          ],
          "name": "stdout"
        },
        {
          "output_type": "execute_result",
          "data": {
            "text/plain": [
              "<matplotlib.legend.Legend at 0x7f1e25ff0c50>"
            ]
          },
          "metadata": {
            "tags": []
          },
          "execution_count": 4
        },
        {
          "output_type": "display_data",
          "data": {
            "image/png": "[encoded data removed]",
            "text/plain": [
              "<Figure size 864x432 with 1 Axes>"
            ]
          },
          "metadata": {
            "tags": [],
            "needs_background": "light"
          }
        }
      ]
    },
    {
      "cell_type": "code",
      "metadata": {
        "id": "U-OgOrJPFDkZ",
        "colab_type": "code",
        "colab": {}
      },
      "source": [
        "y_pred = []\n",
        "prob = []\n",
        "for i in range(len(pred_y)):\n",
        "  prob.append(pred_y[i][1])\n",
        "  if pred_y[i][0] > 0.5:\n",
        "    y_pred.append(0)\n",
        "  else:\n",
        "    y_pred.append(1)"
      ],
      "execution_count": 0,
      "outputs": []
    },
    {
      "cell_type": "code",
      "metadata": {
        "id": "0LDonxpRFjjz",
        "colab_type": "code",
        "outputId": "a40d5ef9-d214-4462-9721-7cbf83254b09",
        "colab": {
          "base_uri": "https://localhost:8080/",
          "height": 82
        }
      },
      "source": [
        "from sklearn.metrics import confusion_matrix, precision_score, recall_score, roc_curve, f1_score, roc_auc_score\n",
        "\n",
        "print(confusion_matrix(true_y, y_pred))\n",
        "print(precision_score(true_y, y_pred))\n",
        "print(recall_score(true_y, y_pred))\n"
      ],
      "execution_count": 0,
      "outputs": [
        {
          "output_type": "stream",
          "text": [
            "[[67 11]\n",
            " [22 50]]\n",
            "0.819672131147541\n",
            "0.6944444444444444\n"
          ],
          "name": "stdout"
        }
      ]
    },
    {
      "cell_type": "code",
      "metadata": {
        "id": "ecun1ATfGc7Q",
        "colab_type": "code",
        "outputId": "9554a962-ca4b-4483-c27d-15efc69f68c0",
        "colab": {
          "base_uri": "https://localhost:8080/",
          "height": 33
        }
      },
      "source": [
        "print(f1_score(true_y, y_pred))"
      ],
      "execution_count": 0,
      "outputs": [
        {
          "output_type": "stream",
          "text": [
            "0.7518796992481204\n"
          ],
          "name": "stdout"
        }
      ]
    },
    {
      "cell_type": "code",
      "metadata": {
        "id": "siCyxUeAGC4i",
        "colab_type": "code",
        "colab": {}
      },
      "source": [
        "true_y = list(true_y)"
      ],
      "execution_count": 0,
      "outputs": []
    },
    {
      "cell_type": "code",
      "metadata": {
        "id": "4zdfhSr5_ir0",
        "colab_type": "code",
        "outputId": "400d9176-4682-48c3-8407-bf9faf03712b",
        "colab": {
          "base_uri": "https://localhost:8080/",
          "height": 420
        }
      },
      "source": [
        "fpr, tpr, thresholds = roc_curve(true_y, prob, pos_label=1)\n",
        "plt.figure(figsize = (12,6))\n",
        "plt.plot(fpr, tpr)\n",
        "plt.title(\"roc_curve\")\n",
        "plt.grid()\n",
        "plt.xlabel(\"false positive rate\")\n",
        "plt.ylabel(\"true positive rate\")"
      ],
      "execution_count": 0,
      "outputs": [
        {
          "output_type": "execute_result",
          "data": {
            "text/plain": [
              "Text(0, 0.5, 'true positive rate')"
            ]
          },
          "metadata": {
            "tags": []
          },
          "execution_count": 67
        },
        {
          "output_type": "display_data",
          "data": {
            "image/png": "[encoded data removed]",
            "text/plain": [
              "<Figure size 864x432 with 1 Axes>"
            ]
          },
          "metadata": {
            "tags": [],
            "needs_background": "light"
          }
        }
      ]
    },
    {
      "cell_type": "code",
      "metadata": {
        "id": "GscQgeTIISPH",
        "colab_type": "code",
        "outputId": "111bf4bb-3442-45fb-a5ee-0a4258ea31bb",
        "colab": {
          "base_uri": "https://localhost:8080/",
          "height": 33
        }
      },
      "source": [
        "print(roc_auc_score(true_y, prob))"
      ],
      "execution_count": 0,
      "outputs": [
        {
          "output_type": "stream",
          "text": [
            "0.8327991452991453\n"
          ],
          "name": "stdout"
        }
      ]
    }
  ]
}